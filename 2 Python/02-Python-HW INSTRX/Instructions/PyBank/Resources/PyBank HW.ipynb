# Import the pathlib and csv library
from pathlib import Path
import csv

# Set the file path
csvpath = Path('budget_data.csv')

print(Path.cwd())

#The total number of months included in the dataset.


#The net total amount of Profit/Losses over the entire period.

#The average of the changes in Profit/Losses over the entire period.

#The greatest increase in profits (date and amount) over the entire period.

#The greatest decrease in losses (date and amount) over the entire period.