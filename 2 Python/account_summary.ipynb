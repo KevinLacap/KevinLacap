{
 "cells": [
  {
   "cell_type": "code",
   "execution_count": 59,
   "metadata": {},
   "outputs": [],
   "source": [
    "import os\n",
    "import plaid\n",
    "import requests\n",
    "import datetime\n",
    "import json\n",
    "import pandas as pd\n",
    "%matplotlib inline"
   ]
  },
  {
   "cell_type": "code",
   "execution_count": 60,
   "metadata": {},
   "outputs": [],
   "source": [
    "def pretty_print_response(response):\n",
    "  print(json.dumps(response, indent=4, sort_keys=True))"
   ]
  },
  {
   "cell_type": "code",
   "execution_count": 61,
   "metadata": {},
   "outputs": [],
   "source": [
    "PLAID_CLIENT_ID = os.getenv('PLAID_CLIENT_ID')\n",
    "PLAID_SECRET = os.getenv('PLAID_DEVELOPMENT')\n",
    "PLAID_PUBLIC_KEY = os.getenv('PLAID_PUBLIC_KEY')\n",
    "PLAID_ENV = os.getenv('PLAID_ENV', 'sandbox')\n",
    "PLAID_PRODUCTS = os.getenv('PLAID_PRODUCTS', 'transactions')\n",
    "PLAID_SBX_SECRET_KEY = os.getenv('PLAID_SBX_SECRET_KEY')"
   ]
  },
  {
   "cell_type": "code",
   "execution_count": 62,
   "metadata": {},
   "outputs": [
    {
     "data": {
      "text/plain": [
       "'1fed5843e64d414ee32d1cfc0f6f52'"
      ]
     },
     "execution_count": 62,
     "metadata": {},
     "output_type": "execute_result"
    }
   ],
   "source": [
    "PLAID_SECRET"
   ]
  },
  {
   "cell_type": "markdown",
   "metadata": {},
   "source": [
    "# Plaid Access Token\n",
    "\n",
    "In this section, you will use the plaid-python api to generate the correct authentication tokens to access data in the free developer Sandbox. This mimics how you might connect to your own account or a customer account, but due to privacy issues, this homework will only require connecting to and analyzing the fake data from the developer sandbox that Plaid provides. \n",
    "\n",
    "Complete the following steps to generate an access token:\n",
    "1. Create a client to connect to plaid\n",
    "2. Use the client to generate a public token and request the following items: \n",
    "['transactions', 'income', 'assets']\n",
    "3. Exchange the public token for an access token\n",
    "4. Test the access token by requesting and printing the available test accounts"
   ]
  },
  {
   "cell_type": "markdown",
   "metadata": {},
   "source": [
    "### 1. Create a client to connect to plaid"
   ]
  },
  {
   "cell_type": "code",
   "execution_count": 63,
   "metadata": {},
   "outputs": [],
   "source": [
    "INSTITUTION_ID = \"ins_109508\""
   ]
  },
  {
   "cell_type": "code",
   "execution_count": 64,
   "metadata": {},
   "outputs": [],
   "source": [
    "# YOUR CODE HERE\n",
    "client = plaid.Client(client_id=PLAID_CLIENT_ID, secret=PLAID_SBX_SECRET_KEY, public_key=PLAID_PUBLIC_KEY, environment='sandbox')\n",
    "\n",
    "# Get institutions\n",
    "#client.Institutions.get(2)"
   ]
  },
  {
   "cell_type": "markdown",
   "metadata": {},
   "source": [
    "### 2. Generate a public token"
   ]
  },
  {
   "cell_type": "code",
   "execution_count": 65,
   "metadata": {},
   "outputs": [],
   "source": [
    "# YOUR CODE HERE\n",
    "create_tkn_response = client.Sandbox.public_token.create(INSTITUTION_ID, ['transactions','income','assets'])"
   ]
  },
  {
   "cell_type": "markdown",
   "metadata": {},
   "source": [
    "### 3. Exchange the public token for an access token"
   ]
  },
  {
   "cell_type": "code",
   "execution_count": 66,
   "metadata": {},
   "outputs": [],
   "source": [
    "# YOUR CODE HERE\n",
    "exchange_response = client.Item.public_token.exchange(create_tkn_response['public_token'])\n",
    "\n"
   ]
  },
  {
   "cell_type": "markdown",
   "metadata": {},
   "source": [
    "### 4. Fetch Accounts"
   ]
  },
  {
   "cell_type": "code",
   "execution_count": 67,
   "metadata": {},
   "outputs": [
    {
     "data": {
      "text/plain": [
       "{'accounts': [{'account_id': 'vnvLG6jxa5tlKm69vRB3snadMmJ6vMfWEnLq6',\n",
       "   'balances': {'available': 100,\n",
       "    'current': 110,\n",
       "    'iso_currency_code': 'USD',\n",
       "    'limit': None,\n",
       "    'unofficial_currency_code': None},\n",
       "   'mask': '0000',\n",
       "   'name': 'Plaid Checking',\n",
       "   'official_name': 'Plaid Gold Standard 0% Interest Checking',\n",
       "   'subtype': 'checking',\n",
       "   'type': 'depository'},\n",
       "  {'account_id': 'RDqPmlNz7VuVdByxoPlZinJbjDMXAjfRBX6aV',\n",
       "   'balances': {'available': 200,\n",
       "    'current': 210,\n",
       "    'iso_currency_code': 'USD',\n",
       "    'limit': None,\n",
       "    'unofficial_currency_code': None},\n",
       "   'mask': '1111',\n",
       "   'name': 'Plaid Saving',\n",
       "   'official_name': 'Plaid Silver Standard 0.1% Interest Saving',\n",
       "   'subtype': 'savings',\n",
       "   'type': 'depository'},\n",
       "  {'account_id': '6EpPrkZaAmHJAe7xaZq1sv8k7P3pm7igybE8B',\n",
       "   'balances': {'available': None,\n",
       "    'current': 1000,\n",
       "    'iso_currency_code': 'USD',\n",
       "    'limit': None,\n",
       "    'unofficial_currency_code': None},\n",
       "   'mask': '2222',\n",
       "   'name': 'Plaid CD',\n",
       "   'official_name': 'Plaid Bronze Standard 0.2% Interest CD',\n",
       "   'subtype': 'cd',\n",
       "   'type': 'depository'},\n",
       "  {'account_id': 'onvjp63lKXt5kjxe8AXZukX9dEa4gduRzkJo3',\n",
       "   'balances': {'available': None,\n",
       "    'current': 410,\n",
       "    'iso_currency_code': 'USD',\n",
       "    'limit': 2000,\n",
       "    'unofficial_currency_code': None},\n",
       "   'mask': '3333',\n",
       "   'name': 'Plaid Credit Card',\n",
       "   'official_name': 'Plaid Diamond 12.5% APR Interest Credit Card',\n",
       "   'subtype': 'credit card',\n",
       "   'type': 'credit'},\n",
       "  {'account_id': 'gWoBjDyERAIqNBWZVDx8f4AeopDlzofgw4eEm',\n",
       "   'balances': {'available': 43200,\n",
       "    'current': 43200,\n",
       "    'iso_currency_code': 'USD',\n",
       "    'limit': None,\n",
       "    'unofficial_currency_code': None},\n",
       "   'mask': '4444',\n",
       "   'name': 'Plaid Money Market',\n",
       "   'official_name': 'Plaid Platinum Standard 1.85% Interest Money Market',\n",
       "   'subtype': 'money market',\n",
       "   'type': 'depository'},\n",
       "  {'account_id': '8Eg7Bo1NnwHVrvgqNy3PiqrXJBQRpJFwGKPWA',\n",
       "   'balances': {'available': None,\n",
       "    'current': 320.76,\n",
       "    'iso_currency_code': 'USD',\n",
       "    'limit': None,\n",
       "    'unofficial_currency_code': None},\n",
       "   'mask': '5555',\n",
       "   'name': 'Plaid IRA',\n",
       "   'official_name': None,\n",
       "   'subtype': 'ira',\n",
       "   'type': 'investment'},\n",
       "  {'account_id': 'EDJAMLy8qNugGbX9awR4uxJjBN6KEBcX19a4y',\n",
       "   'balances': {'available': None,\n",
       "    'current': 23631.9805,\n",
       "    'iso_currency_code': 'USD',\n",
       "    'limit': None,\n",
       "    'unofficial_currency_code': None},\n",
       "   'mask': '6666',\n",
       "   'name': 'Plaid 401k',\n",
       "   'official_name': None,\n",
       "   'subtype': '401k',\n",
       "   'type': 'investment'},\n",
       "  {'account_id': 'WD3Z6BQa18uz6BPNXK9MfMEXAZ6plAhlDwd6b',\n",
       "   'balances': {'available': None,\n",
       "    'current': 65262,\n",
       "    'iso_currency_code': 'USD',\n",
       "    'limit': None,\n",
       "    'unofficial_currency_code': None},\n",
       "   'mask': '7777',\n",
       "   'name': 'Plaid Student Loan',\n",
       "   'official_name': None,\n",
       "   'subtype': 'student',\n",
       "   'type': 'loan'}],\n",
       " 'item': {'available_products': ['auth',\n",
       "   'balance',\n",
       "   'credit_details',\n",
       "   'identity',\n",
       "   'investments',\n",
       "   'liabilities'],\n",
       "  'billed_products': ['assets', 'income', 'transactions'],\n",
       "  'consent_expiration_time': None,\n",
       "  'error': None,\n",
       "  'institution_id': 'ins_109508',\n",
       "  'item_id': 'ZWaLlk1PogIyQzLeVx7Gfr5WPRexjKFgGorJa',\n",
       "  'webhook': ''},\n",
       " 'request_id': '0Jt2bakvgGQTKud'}"
      ]
     },
     "execution_count": 67,
     "metadata": {},
     "output_type": "execute_result"
    }
   ],
   "source": [
    "# YOUR CODE HERE\n",
    "# Store access token as variable\n",
    "access_token = exchange_response['access_token']\n",
    "\n",
    "# Get accounts associated with institution\n",
    "client.Accounts.get(access_token)"
   ]
  },
  {
   "cell_type": "markdown",
   "metadata": {},
   "source": [
    "---"
   ]
  },
  {
   "cell_type": "markdown",
   "metadata": {},
   "source": [
    "# Account Transactions with Plaid\n",
    "\n",
    "In this section, you will use the Plaid Python SDK to connect to the Developer Sandbox account and grab a list of transactions. You will need to complete the following steps:\n",
    "\n",
    "\n",
    "1. Use the access token to fetch the transactions for the last 90 days\n",
    "2. Print the categories for each transaction type\n",
    "3. Create a new DataFrame using the following fields from the JSON transaction data: `date, name, amount, category`. (For categories with more than one label, just use the first category label in the list)\n",
    "4. Convert the data types to the appropriate types (i.e. datetimeindex for the date and float for the amount)"
   ]
  },
  {
   "cell_type": "markdown",
   "metadata": {},
   "source": [
    "### 1. Fetch the Transactions for the last 90 days"
   ]
  },
  {
   "cell_type": "code",
   "execution_count": 73,
   "metadata": {},
   "outputs": [
    {
     "name": "stdout",
     "output_type": "stream",
     "text": [
      "[\n",
      "    {\n",
      "        \"account_id\": \"RDqPmlNz7VuVdByxoPlZinJbjDMXAjfRBX6aV\",\n",
      "        \"account_owner\": null,\n",
      "        \"amount\": 25,\n",
      "        \"authorized_date\": null,\n",
      "        \"category\": [\n",
      "            \"Payment\",\n",
      "            \"Credit Card\"\n",
      "        ],\n",
      "        \"category_id\": \"16001000\",\n",
      "        \"date\": \"2020-04-15\",\n",
      "        \"iso_currency_code\": \"USD\",\n",
      "        \"location\": {\n",
      "            \"address\": null,\n",
      "            \"city\": null,\n",
      "            \"country\": null,\n",
      "            \"lat\": null,\n",
      "            \"lon\": null,\n",
      "            \"postal_code\": null,\n",
      "            \"region\": null,\n",
      "            \"store_number\": null\n",
      "        },\n",
      "        \"name\": \"CREDIT CARD 3333 PAYMENT *//\",\n",
      "        \"payment_channel\": \"other\",\n",
      "        \"payment_meta\": {\n",
      "            \"by_order_of\": null,\n",
      "            \"payee\": null,\n",
      "            \"payer\": null,\n",
      "            \"payment_method\": null,\n",
      "            \"payment_processor\": null,\n",
      "            \"ppd_id\": null,\n",
      "            \"reason\": null,\n",
      "            \"reference_number\": null\n",
      "        },\n",
      "        \"pending\": false,\n",
      "        \"pending_transaction_id\": null,\n",
      "        \"transaction_code\": null,\n",
      "        \"transaction_id\": \"GDJqLVlWr3u6MXgqdRBWf5gXBGxeyPHWEAWVD\",\n",
      "        \"transaction_type\": \"special\",\n",
      "        \"unofficial_currency_code\": null\n",
      "    },\n",
      "    {\n",
      "        \"account_id\": \"vnvLG6jxa5tlKm69vRB3snadMmJ6vMfWEnLq6\",\n",
      "        \"account_owner\": null,\n",
      "        \"amount\": 5.4,\n",
      "        \"authorized_date\": null,\n",
      "        \"category\": [\n",
      "            \"Travel\",\n",
      "            \"Taxi\"\n",
      "        ],\n",
      "        \"category_id\": \"22016000\",\n",
      "        \"date\": \"2020-04-15\",\n",
      "        \"iso_currency_code\": \"USD\",\n",
      "        \"location\": {\n",
      "            \"address\": null,\n",
      "            \"city\": null,\n",
      "            \"country\": null,\n",
      "            \"lat\": null,\n",
      "            \"lon\": null,\n",
      "            \"postal_code\": null,\n",
      "            \"region\": null,\n",
      "            \"store_number\": null\n",
      "        },\n",
      "        \"name\": \"Uber\",\n",
      "        \"payment_channel\": \"in store\",\n",
      "        \"payment_meta\": {\n",
      "            \"by_order_of\": null,\n",
      "            \"payee\": null,\n",
      "            \"payer\": null,\n",
      "            \"payment_method\": null,\n",
      "            \"payment_processor\": null,\n",
      "            \"ppd_id\": null,\n",
      "            \"reason\": null,\n",
      "            \"reference_number\": null\n",
      "        },\n",
      "        \"pending\": false,\n",
      "        \"pending_transaction_id\": null,\n",
      "        \"transaction_code\": null,\n",
      "        \"transaction_id\": \"onvjp63lKXt5kjxe8AXZukX9ePaDB5sXLkXJA\",\n",
      "        \"transaction_type\": \"special\",\n",
      "        \"unofficial_currency_code\": null\n",
      "    }\n",
      "]\n"
     ]
    }
   ],
   "source": [
    "# YOUR CODE HERE\n",
    "# Get transactions for institution for specific date range\n",
    "start_date = '{:%Y-%m-%d}'.format(datetime.datetime.now() + datetime.timedelta(-90))\n",
    "end_date = '{:%Y-%m-%d}'.format(datetime.datetime.now())\n",
    "\n",
    "# Get transactions for date range\n",
    "transaction_response = client.Transactions.get(access_token,start_date,end_date)\n",
    "\n",
    "# Print JSON output\n",
    "print(json.dumps(transaction_response['transactions'][:2],indent=4, sort_keys=True))\n",
    "\n",
    "# Iterate and parse JSON response\n",
    "#for transactions in transactions_response['transactions']:\n",
    "    #if transactions['name'] == 'INTRST PYMNT':\n",
    "        #print(json.dumps(transactions['amount'], indent=4, sort_keys=True))"
   ]
  },
  {
   "cell_type": "markdown",
   "metadata": {},
   "source": [
    "### 2. Print the categories for each transaction"
   ]
  },
  {
   "cell_type": "code",
   "execution_count": 74,
   "metadata": {},
   "outputs": [],
   "source": [
    "# YOUR CODE HERE\n",
    "transaction_response = ['transactions'][0]"
   ]
  },
  {
   "cell_type": "code",
   "execution_count": 75,
   "metadata": {},
   "outputs": [
    {
     "data": {
      "text/plain": [
       "'transactions'"
      ]
     },
     "execution_count": 75,
     "metadata": {},
     "output_type": "execute_result"
    }
   ],
   "source": [
    "transaction_response"
   ]
  },
  {
   "cell_type": "markdown",
   "metadata": {},
   "source": [
    "### 3. Create a new DataFrame using the following fields from the JSON transaction data: date, name, amount, category. \n",
    "\n",
    "(For categories with more than one label, just use the first category label in the list)"
   ]
  },
  {
   "cell_type": "code",
   "execution_count": 13,
   "metadata": {},
   "outputs": [
    {
     "ename": "NameError",
     "evalue": "name 'data' is not defined",
     "output_type": "error",
     "traceback": [
      "\u001b[1;31m---------------------------------------------------------------------------\u001b[0m",
      "\u001b[1;31mNameError\u001b[0m                                 Traceback (most recent call last)",
      "\u001b[1;32m<ipython-input-13-cd325c463a49>\u001b[0m in \u001b[0;36m<module>\u001b[1;34m\u001b[0m\n\u001b[0;32m      1\u001b[0m \u001b[1;31m# YOUR CODE HERE\u001b[0m\u001b[1;33m\u001b[0m\u001b[1;33m\u001b[0m\u001b[1;33m\u001b[0m\u001b[0m\n\u001b[1;32m----> 2\u001b[1;33m \u001b[0mdf\u001b[0m \u001b[1;33m=\u001b[0m \u001b[0mpd\u001b[0m\u001b[1;33m.\u001b[0m\u001b[0mDataFrame\u001b[0m\u001b[1;33m(\u001b[0m\u001b[0mdata\u001b[0m\u001b[1;33m)\u001b[0m\u001b[1;33m\u001b[0m\u001b[1;33m\u001b[0m\u001b[0m\n\u001b[0m\u001b[0;32m      3\u001b[0m \u001b[0mtransaction_date\u001b[0m\u001b[1;33m=\u001b[0m\u001b[1;33m[\u001b[0m\u001b[1;33m]\u001b[0m\u001b[1;33m\u001b[0m\u001b[1;33m\u001b[0m\u001b[0m\n\u001b[0;32m      4\u001b[0m \u001b[0mname\u001b[0m\u001b[1;33m=\u001b[0m\u001b[1;33m[\u001b[0m\u001b[1;33m]\u001b[0m\u001b[1;33m\u001b[0m\u001b[1;33m\u001b[0m\u001b[0m\n\u001b[0;32m      5\u001b[0m \u001b[0mamount\u001b[0m\u001b[1;33m=\u001b[0m\u001b[1;33m[\u001b[0m\u001b[1;33m]\u001b[0m\u001b[1;33m\u001b[0m\u001b[1;33m\u001b[0m\u001b[0m\n",
      "\u001b[1;31mNameError\u001b[0m: name 'data' is not defined"
     ]
    }
   ],
   "source": [
    "# YOUR CODE HERE\n",
    "df = pd.DataFrame(data)\n",
    "transaction_date=[]\n",
    "name=[]\n",
    "amount=[]\n",
    "category=[]\n",
    "\n",
    "# initialize data list\n",
    "data = {}"
   ]
  },
  {
   "cell_type": "markdown",
   "metadata": {},
   "source": [
    "### 4. Convert the data types to the appropriate types \n",
    "\n",
    "(i.e. datetimeindex for the date and float for the amount)"
   ]
  },
  {
   "cell_type": "code",
   "execution_count": null,
   "metadata": {},
   "outputs": [],
   "source": [
    "# YOUR CODE HERE"
   ]
  },
  {
   "cell_type": "markdown",
   "metadata": {},
   "source": [
    "---"
   ]
  },
  {
   "cell_type": "markdown",
   "metadata": {},
   "source": [
    "# Income Analysis with Plaid\n",
    "\n",
    "In this section, you will use the Plaid Sandbox to complete the following:\n",
    "1. Determine the previous year's gross income and print the results\n",
    "2. Determine the current monthly income and print the results\n",
    "3. Determine the projected yearly income and print the results"
   ]
  },
  {
   "cell_type": "code",
   "execution_count": null,
   "metadata": {},
   "outputs": [],
   "source": [
    "# YOUR CODE HERE"
   ]
  },
  {
   "cell_type": "markdown",
   "metadata": {},
   "source": [
    "---"
   ]
  },
  {
   "cell_type": "markdown",
   "metadata": {},
   "source": [
    "# Budget Analysis\n",
    "In this section, you will use the transactions DataFrame to analyze the customer's budget\n",
    "\n",
    "1. Calculate the total spending per category and print the results (Hint: groupby or count transactions per category)\n",
    "2. Generate a bar chart with the number of transactions for each category \n",
    "3. Calculate the expenses per month\n",
    "4. Plot the total expenses per month"
   ]
  },
  {
   "cell_type": "markdown",
   "metadata": {},
   "source": [
    "### Calculate the expenses per category"
   ]
  },
  {
   "cell_type": "code",
   "execution_count": null,
   "metadata": {},
   "outputs": [],
   "source": [
    "# YOUR CODE HERE"
   ]
  },
  {
   "cell_type": "markdown",
   "metadata": {},
   "source": [
    "### Calculate the expenses per month"
   ]
  },
  {
   "cell_type": "code",
   "execution_count": null,
   "metadata": {},
   "outputs": [],
   "source": [
    "# YOUR CODE HERE"
   ]
  },
  {
   "cell_type": "code",
   "execution_count": null,
   "metadata": {},
   "outputs": [],
   "source": []
  },
  {
   "cell_type": "code",
   "execution_count": null,
   "metadata": {},
   "outputs": [],
   "source": [
    "print(\"Brian\")"
   ]
  },
  {
   "cell_type": "code",
   "execution_count": null,
   "metadata": {},
   "outputs": [],
   "source": []
  }
 ],
 "metadata": {
  "kernel_info": {
   "name": "dev"
  },
  "kernelspec": {
   "display_name": "Python 3",
   "language": "python",
   "name": "python3"
  },
  "language_info": {
   "codemirror_mode": {
    "name": "ipython",
    "version": 3
   },
   "file_extension": ".py",
   "mimetype": "text/x-python",
   "name": "python",
   "nbconvert_exporter": "python",
   "pygments_lexer": "ipython3",
   "version": "3.7.6"
  },
  "nteract": {
   "version": "0.12.3"
  }
 },
 "nbformat": 4,
 "nbformat_minor": 4
}
