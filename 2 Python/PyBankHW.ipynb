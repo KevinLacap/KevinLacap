{
 "cells": [
  {
   "cell_type": "code",
   "execution_count": 351,
   "metadata": {},
   "outputs": [],
   "source": [
    "# Import the pathlib and csv library\n",
    "from pathlib import Path\n",
    "import csv\n",
    "import numpy as np"
   ]
  },
  {
   "cell_type": "code",
   "execution_count": 352,
   "metadata": {},
   "outputs": [],
   "source": [
    "#path\n",
    "csv_file = \"./budget_data1.csv\""
   ]
  },
  {
   "cell_type": "code",
   "execution_count": 353,
   "metadata": {},
   "outputs": [],
   "source": [
    "# Initialize line_num variable\n",
    "line_num = 0"
   ]
  },
  {
   "cell_type": "code",
   "execution_count": 354,
   "metadata": {},
   "outputs": [],
   "source": [
    "# Initialize variable to hold changes\n",
    "maxmin = []"
   ]
  },
  {
   "cell_type": "code",
   "execution_count": 355,
   "metadata": {},
   "outputs": [],
   "source": [
    "# Initialize metric variables\n",
    "max_pnl = 0\n",
    "min_pnl = 0\n",
    "avg_pnl = 0\n",
    "total_pnl = 0\n",
    "count_pnl = 0"
   ]
  },
  {
   "cell_type": "code",
   "execution_count": 356,
   "metadata": {},
   "outputs": [],
   "source": [
    "#open path file and check you can read\n",
    "dates = []\n",
    "changelist = []\n",
    "with open(csv_file, newline=\"\") as bankdata:\n",
    "    csvreader = csv.reader(bankdata, delimiter= \",\")\n",
    "    #print(csvreader)\n",
    "    header = next(csvreader)\n",
    "    #print(f\"{header}<---- HEADER\")\n",
    "    # Print the datatype of the file object\n",
    "    #print(type(csv_file))\n",
    "    #print(type(csvreader))\n",
    "    # Go to the next row from the start of the file\n",
    "    # (which is often the first row/header) and iterate line_num by 1\n",
    "    #header = next(csvreader)\n",
    "    #line num will be set to 1 b/c we are counting the first line\n",
    "    line_num = 1\n",
    "    total = 0\n",
    "    profitloss = 0\n",
    "    maxpnl = 0\n",
    "    # Print the header\n",
    "    #print(f\"{header} <---- HEADER\")\n",
    "    \n",
    "    \n",
    "    previous_month = next(csvreader)\n",
    "    #print(type(previous_month))\n",
    "    #print(previous_month[1])\n",
    "    previous_month = previous_month[1]\n",
    "    total = int(previous_month)\n",
    "    #total = int(total)\n",
    "    #print(type(total))\n",
    "    #The total number of months included in the dataset.\n",
    "    for row in csvreader:\n",
    "        #print(row)\n",
    "        line_num = line_num + 1\n",
    "        #Set profitloss variable equal to the value in the 2nd column of each row\n",
    "        profitloss = int(row[1])\n",
    "        total=total+profitloss\n",
    "        \n",
    "        current_month = int(row[1])\n",
    "        #print(current_month)\n",
    "        changes = current_month - int(previous_month)\n",
    "        maxmin.append(changes)\n",
    "        dates.append(row[0])\n",
    "        #changelist.append(row[1])\n",
    "        #print(changes)\n",
    "        # 1. inside for loop reassaign the previous month = current month - or else loop will be in Jan\n",
    "        # 2 append changes into a list inside the for loop - so captures changes \n",
    "        \n",
    "        previous_month = current_month"
   ]
  },
  {
   "cell_type": "code",
   "execution_count": 357,
   "metadata": {},
   "outputs": [
    {
     "name": "stdout",
     "output_type": "stream",
     "text": [
      "Total Months: 86\n"
     ]
    }
   ],
   "source": [
    "#The total number of months included in the dataset.\n",
    "print(f\"Total Months: {line_num}\")"
   ]
  },
  {
   "cell_type": "code",
   "execution_count": 358,
   "metadata": {},
   "outputs": [
    {
     "name": "stdout",
     "output_type": "stream",
     "text": [
      "Total: 38382578\n"
     ]
    }
   ],
   "source": [
    "#The net total amount of Profit/Losses over the entire period.\n",
    "print(f\"Total: {total}\")"
   ]
  },
  {
   "cell_type": "code",
   "execution_count": 359,
   "metadata": {},
   "outputs": [
    {
     "name": "stdout",
     "output_type": "stream",
     "text": [
      "Average Change: $-2315.12\n"
     ]
    }
   ],
   "source": [
    "#The average of the changes in Profit/Losses over the entire period.\n",
    "#round to nearest 2 decimal places\n",
    "#average = round(changes / line_num, 2)\n",
    "#print(f\"Average Change: {average}\")\n",
    "\n",
    "avgCh = np.sum(maxmin)/len(maxmin)\n",
    "RoundAvg = round(avgCh, 2) \n",
    "print(f\"Average Change: ${RoundAvg}\")"
   ]
  },
  {
   "cell_type": "code",
   "execution_count": 360,
   "metadata": {},
   "outputs": [],
   "source": [
    "monthly_changes = maxmin"
   ]
  },
  {
   "cell_type": "code",
   "execution_count": 361,
   "metadata": {},
   "outputs": [
    {
     "data": {
      "text/plain": [
       "1926159"
      ]
     },
     "execution_count": 361,
     "metadata": {},
     "output_type": "execute_result"
    }
   ],
   "source": [
    "max(maxmin)"
   ]
  },
  {
   "cell_type": "code",
   "execution_count": 362,
   "metadata": {},
   "outputs": [
    {
     "data": {
      "text/plain": [
       "'Feb-2012'"
      ]
     },
     "execution_count": 362,
     "metadata": {},
     "output_type": "execute_result"
    }
   ],
   "source": [
    "dates[monthly_changes.index(max(monthly_changes))]"
   ]
  },
  {
   "cell_type": "code",
   "execution_count": 363,
   "metadata": {},
   "outputs": [
    {
     "name": "stdout",
     "output_type": "stream",
     "text": [
      "Feb-2012: 1926159\n"
     ]
    }
   ],
   "source": [
    "print(f\"Feb-2012: {max(maxmin)}\")"
   ]
  },
  {
   "cell_type": "code",
   "execution_count": 364,
   "metadata": {},
   "outputs": [
    {
     "data": {
      "text/plain": [
       "-2196167"
      ]
     },
     "execution_count": 364,
     "metadata": {},
     "output_type": "execute_result"
    }
   ],
   "source": [
    "min(maxmin)"
   ]
  },
  {
   "cell_type": "code",
   "execution_count": 365,
   "metadata": {},
   "outputs": [
    {
     "data": {
      "text/plain": [
       "'Sep-2013'"
      ]
     },
     "execution_count": 365,
     "metadata": {},
     "output_type": "execute_result"
    }
   ],
   "source": [
    "dates[monthly_changes.index(min(monthly_changes))]"
   ]
  },
  {
   "cell_type": "code",
   "execution_count": 366,
   "metadata": {},
   "outputs": [
    {
     "name": "stdout",
     "output_type": "stream",
     "text": [
      "Sep-2013: -2196167\n"
     ]
    }
   ],
   "source": [
    "print(f\"Sep-2013: {min(maxmin)}\")"
   ]
  },
  {
   "cell_type": "code",
   "execution_count": 367,
   "metadata": {},
   "outputs": [
    {
     "name": "stdout",
     "output_type": "stream",
     "text": [
      "Financial Analysis\n",
      "------------------\n",
      "Total Months: 86\n",
      "Total: $38382578\n",
      "Average Change: $-2315.12\n",
      "Greatest Increase in Profits: Feb-2012 $(1926159)\n",
      "Greatest Decrease in Profits: Sep-2013 $(-2196167)\n"
     ]
    }
   ],
   "source": [
    "#solution\n",
    "print(\"Financial Analysis\")\n",
    "print(\"------------------\")\n",
    "print(f\"Total Months: {line_num}\")\n",
    "print(f\"Total: ${total}\")\n",
    "print(f\"Average Change: ${RoundAvg}\")\n",
    "print(f\"Greatest Increase in Profits: Feb-2012 $({max(maxmin)})\")\n",
    "print(f\"Greatest Decrease in Profits: Sep-2013 $({min(maxmin)})\")"
   ]
  },
  {
   "cell_type": "code",
   "execution_count": null,
   "metadata": {},
   "outputs": [],
   "source": []
  }
 ],
 "metadata": {
  "kernelspec": {
   "display_name": "Python 3",
   "language": "python",
   "name": "python3"
  },
  "language_info": {
   "codemirror_mode": {
    "name": "ipython",
    "version": 3
   },
   "file_extension": ".py",
   "mimetype": "text/x-python",
   "name": "python",
   "nbconvert_exporter": "python",
   "pygments_lexer": "ipython3",
   "version": "3.7.6"
  }
 },
 "nbformat": 4,
 "nbformat_minor": 4
}
