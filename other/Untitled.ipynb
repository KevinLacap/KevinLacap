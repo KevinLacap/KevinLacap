{
 "cells": [
  {
   "cell_type": "code",
   "execution_count": 3,
   "metadata": {},
   "outputs": [
    {
     "ename": "SyntaxError",
     "evalue": "invalid syntax (<ipython-input-3-b4359789165d>, line 19)",
     "output_type": "error",
     "traceback": [
      "\u001b[1;36m  File \u001b[1;32m\"<ipython-input-3-b4359789165d>\"\u001b[1;36m, line \u001b[1;32m19\u001b[0m\n\u001b[1;33m    for trading in trading p\u001b[0m\n\u001b[1;37m                           ^\u001b[0m\n\u001b[1;31mSyntaxError\u001b[0m\u001b[1;31m:\u001b[0m invalid syntax\n"
     ]
    }
   ],
   "source": [
    "# -*- coding: utf-8 -*-\n",
    "\"\"\"\n",
    "Student Do: Grocery List.\n",
    "\n",
    "This script showcases basic operations of Python Lists to help Sally\n",
    "organize her grocery shopping list.\n",
    "\"\"\"\n",
    "\n",
    "# @TODO: Initialize the metric value\n",
    "total = 0\n",
    "count = 0\n",
    "\n",
    "\n",
    "\n",
    "# @TODO: list of trading profit/losses\n",
    "trading_pnl = [[352, 252, 354, 56, 123, 254, 325, 47, 321, 123, 133, 613, 232, \n",
    "                -224, -544, -650, -43, -123, -151, -311]]\n",
    "\n",
    "for trading in trading p\n",
    "\n",
    "\n",
    "# @TODO: Find the last five items on the list\n",
    "for trading in trading_pnl:\n",
    "    total += trading\n",
    "    count +=1\n",
    "\n",
    "\n",
    "\n",
    "# @TODO: Find every other item on the list, starting from the second item\n",
    "\n",
    "\n",
    "\n",
    "\n",
    "# @TODO: Add an element to the end of the list\n",
    "\n",
    "\n",
    "\n",
    "\n",
    "\n",
    "# @TODO: Changes a specified element within the list at the given index\n",
    "\n",
    "\n",
    "\n",
    "\n",
    "\n",
    "# @TODO: Calculate how many items you have in the list\n"
   ]
  },
  {
   "cell_type": "code",
   "execution_count": null,
   "metadata": {},
   "outputs": [],
   "source": []
  }
 ],
 "metadata": {
  "kernelspec": {
   "display_name": "Python 3",
   "language": "python",
   "name": "python3"
  },
  "language_info": {
   "codemirror_mode": {
    "name": "ipython",
    "version": 3
   },
   "file_extension": ".py",
   "mimetype": "text/x-python",
   "name": "python",
   "nbconvert_exporter": "python",
   "pygments_lexer": "ipython3",
   "version": "3.7.6"
  }
 },
 "nbformat": 4,
 "nbformat_minor": 4
}
